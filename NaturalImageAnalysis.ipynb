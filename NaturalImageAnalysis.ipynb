{
 "cells": [
  {
   "cell_type": "code",
   "execution_count": 1,
   "metadata": {
    "scrolled": true
   },
   "outputs": [],
   "source": [
    "import os, array\n",
    "import numpy as np\n",
    "import random\n",
    "import math\n",
    "from operator import itemgetter\n",
    "from ripser import ripser, plot_dgms\n",
    "import scipy"
   ]
  },
  {
   "cell_type": "code",
   "execution_count": 2,
   "metadata": {},
   "outputs": [],
   "source": [
    "#imageNames = [name for name in os.listdir('./vanhateren_iml')]"
   ]
  },
  {
   "cell_type": "code",
   "execution_count": 3,
   "metadata": {},
   "outputs": [
    {
     "data": {
      "text/plain": [
       "'for filename in imageNames:\\n    \\n    if filename == \\'readIML.m\\':\\n        #skip this file\\n        continue\\n    \\n    currentFiles = [name for name in os.listdir(\\'./ImageArrays\\')]\\n    \\n    if filename + \\'.csv\\' in currentFiles:\\n        continue\\n    \\n    fullPath = \\'./vanhateren_iml/\\' + filename\\n    with open(fullPath, \\'rb\\') as handle:\\n        s = handle.read()\\n    arr = array.array(\\'H\\', s)\\n    arr.byteswap()\\n    img = np.array(arr, dtype=\\'uint16\\').reshape(1024, 1536)\\n    \\n    np.savetxt(\\'./ImageArrays/\\' + filename + \\'.csv\\', img, delimiter=\",\")\\n'"
      ]
     },
     "execution_count": 3,
     "metadata": {},
     "output_type": "execute_result"
    }
   ],
   "source": [
    "'''for filename in imageNames:\n",
    "    \n",
    "    if filename == 'readIML.m':\n",
    "        #skip this file\n",
    "        continue\n",
    "    \n",
    "    currentFiles = [name for name in os.listdir('./ImageArrays')]\n",
    "    \n",
    "    if filename + '.csv' in currentFiles:\n",
    "        continue\n",
    "    \n",
    "    fullPath = './vanhateren_iml/' + filename\n",
    "    with open(fullPath, 'rb') as handle:\n",
    "        s = handle.read()\n",
    "    arr = array.array('H', s)\n",
    "    arr.byteswap()\n",
    "    img = np.array(arr, dtype='uint16').reshape(1024, 1536)\n",
    "    \n",
    "    np.savetxt('./ImageArrays/' + filename + '.csv', img, delimiter=\",\")\n",
    "'''"
   ]
  },
  {
   "cell_type": "code",
   "execution_count": 3,
   "metadata": {},
   "outputs": [],
   "source": [
    "def extract_patches(img, xLength, yLength, patchLength, numPatches):\n",
    "    \n",
    "    patches = []\n",
    "    \n",
    "    random.seed(12345)\n",
    "    \n",
    "    for i in range(numPatches):\n",
    "    \n",
    "        xIndex = random.randint(0,xLength - patchLength)\n",
    "        yIndex = random.randint(0,yLength - patchLength)\n",
    "\n",
    "        patch = sample[xIndex:xIndex + patchLength, yIndex:yIndex + patchLength]\n",
    "    \n",
    "        patches.append(patch)\n",
    "    \n",
    "    return np.array(patches)"
   ]
  },
  {
   "cell_type": "code",
   "execution_count": 4,
   "metadata": {},
   "outputs": [],
   "source": [
    "def compute_D_norm(patch, D):\n",
    "    \n",
    "    #Turn patch from 3x3 matrix to flat vector\n",
    "    patch = patch.flatten()\n",
    "\n",
    "    xTD = np.dot(patch.T,D)\n",
    "    \n",
    "    xTDx = np.dot(xTD,patch)\n",
    "\n",
    "    return math.sqrt(xTDx)\n",
    "        "
   ]
  },
  {
   "cell_type": "code",
   "execution_count": 5,
   "metadata": {},
   "outputs": [],
   "source": [
    "def pre_process_patches(patches):\n",
    "    #Returns a tuple of the form\n",
    "    #(processedPatch, DNorm)\n",
    "    \n",
    "    processedPatchesAndDNorm = []\n",
    "    \n",
    "    D = np.matrix([\n",
    "        [2,-1,0,-1,0,0,0,0,0],\n",
    "        [-1,3,-1,0,-1,0,0,0,0],\n",
    "        [0,-1,2,0,0,-1,0,0,0],\n",
    "        [-1,0,0,3,-1,0,-1,0,0],\n",
    "        [0,-1,0,-1,4,-1,0,-1,0],\n",
    "        [0,0,-1,0,-1,3,0,0,-1],\n",
    "        [0,0,0,-1,0,0,2,-1,0],\n",
    "        [0,0,0,0,-1,0,-1,3,-1],\n",
    "        [0,0,0,0,0,-1,0,-1,2]\n",
    "    ])\n",
    "    \n",
    "    for patch in patches:\n",
    "        \n",
    "        logVals = []\n",
    "        \n",
    "        for row in patch:\n",
    "            \n",
    "            for pix in row:\n",
    "            \n",
    "                logPix = math.log(pix)\n",
    "                logVals.append(logPix)\n",
    "        \n",
    "        patchLength = patch.shape[0]\n",
    "        logPatch = np.array(logVals).reshape(patchLength,patchLength)\n",
    "        \n",
    "        avg = np.mean(logPatch)\n",
    "        \n",
    "        averagedPatch = np.array([val - avg for val in logPatch]).reshape(patchLength,patchLength)\n",
    "        \n",
    "        DNorm = compute_D_norm(averagedPatch, D)\n",
    "        \n",
    "        tup = (averagedPatch,DNorm)\n",
    "        processedPatchesAndDNorm.append(tup)\n",
    "            \n",
    "    return processedPatchesAndDNorm\n",
    "         "
   ]
  },
  {
   "cell_type": "code",
   "execution_count": 6,
   "metadata": {},
   "outputs": [],
   "source": [
    "def normalizeVectors(patchesAndNorms):\n",
    "    #Takes a list of tuples of the form\n",
    "    #(patch/vector,DNorm)\n",
    "    \n",
    "    normalizedPatches = []\n",
    "    for patchAndNorm in patchesAndNorms:\n",
    "        \n",
    "        DNorm = patchAndNorm[1]\n",
    "        \n",
    "        normalizedPatch = []\n",
    "        for pix in patchAndNorm[0]:\n",
    "            normalized = pix / DNorm\n",
    "            \n",
    "            normalizedPatch.append(normalized)\n",
    "        \n",
    "        normalizedPatch = np.array(normalizedPatch)\n",
    "            \n",
    "        normalizedPatches.append(normalizedPatch)\n",
    "            \n",
    "    return np.array(normalizedPatches)   "
   ]
  },
  {
   "cell_type": "code",
   "execution_count": 7,
   "metadata": {},
   "outputs": [],
   "source": [
    "def change_coordinates(patches):\n",
    "    \n",
    "    e1 = (1/math.sqrt(6))*np.array([1,0,-1,1,0,-1,1,0,-1]).T\n",
    "    e2 = (1/math.sqrt(6))*np.array([1,1,1,0,0,0,-1,-1,-1]).T\n",
    "    e3 = (1/math.sqrt(54))*np.array([1,-2,1,1,-2,1,1,-2,1]).T\n",
    "    e4 = (1/math.sqrt(54))*np.array([1,1,1,-2,-2,-2,1,1,1]).T\n",
    "    e5 = (1/math.sqrt(8))*np.array([1,0,-1,0,0,0,-1,0,1]).T\n",
    "    e6 = (1/math.sqrt(48))*np.array([1,0,-1,-2,0,2,1,0,-1]).T\n",
    "    e7 = (1/math.sqrt(48))*np.array([1,-2,1,0,0,0,-1,2,-1]).T\n",
    "    e8 = (1/math.sqrt(216))*np.array([1,-2,1,-2,4,-2,1,-2,1]).T\n",
    "    \n",
    "    A = np.matrix(np.column_stack((e1,e2,e3,e4,e5,e6,e7,e8)))\n",
    "    \n",
    "    lam = np.matrix([\n",
    "        [(1/np.linalg.norm(e1)),0,0,0,0,0,0,0],\n",
    "        [0,(1/np.linalg.norm(e2)),0,0,0,0,0,0],\n",
    "        [0,0,(1/np.linalg.norm(e3)),0,0,0,0,0],\n",
    "        [0,0,0,(1/np.linalg.norm(e4)),0,0,0,0],\n",
    "        [0,0,0,0,(1/np.linalg.norm(e5)),0,0,0],\n",
    "        [0,0,0,0,0,(1/np.linalg.norm(e6)),0,0],\n",
    "        [0,0,0,0,0,0,(1/np.linalg.norm(e7)),0],\n",
    "        [0,0,0,0,0,0,0,(1/np.linalg.norm(e8))]\n",
    "    ])\n",
    "    \n",
    "    lamAT = np.dot(lam, A.T)\n",
    "    \n",
    "    changedPatches = []\n",
    "    for patch in patches:\n",
    "        v = np.dot(A.T, patch.flatten())\n",
    "        \n",
    "        ary = np.squeeze(np.asarray(v))\n",
    "        \n",
    "        changedPatches.append(ary)\n",
    "    \n",
    "    return np.array(changedPatches)"
   ]
  },
  {
   "cell_type": "code",
   "execution_count": 16,
   "metadata": {},
   "outputs": [],
   "source": [
    "cnt = 0\n",
    "for file in os.listdir('./ImageArrays'):\n",
    "       \n",
    "    cnt += 1\n",
    "    if cnt < 1260:\n",
    "        continue\n",
    "        \n",
    "    if file == '.ipynb_checkpoints':\n",
    "        #Don't want this file\n",
    "        continue\n",
    "\n",
    "    try:\n",
    "        \n",
    "        sample = np.loadtxt('./ImageArrays/' + file, delimiter=',')\n",
    "\n",
    "        patches = extract_patches(sample, 1024, 1536, 3, 5000)\n",
    "\n",
    "        patchesAndNorm = pre_process_patches(patches)\n",
    "\n",
    "        sortedLst = sorted(patchesAndNorm,key=itemgetter(1),reverse=True)\n",
    "\n",
    "        top20Index = int(1000)\n",
    "\n",
    "        selectedPatchesAndNorms = sortedLst[:top20Index]\n",
    "\n",
    "        normalizedPatches = normalizeVectors(selectedPatchesAndNorms)\n",
    "\n",
    "        patchesChangedCoordinates = change_coordinates(normalizedPatches)\n",
    "\n",
    "        np.savetxt('./Patches/' + file + 'Patches.csv', patchesChangedCoordinates, delimiter=\",\", newline=\"\\n\")\n",
    "\n",
    "    except ValueError:\n",
    "        \n",
    "        continue\n",
    "        \n",
    "    '''patchCnt = 1\n",
    "    \n",
    "    for patch in patchesChangedCoordinates:\n",
    "        \n",
    "        fileName = file + 'Patch' + str(patchCnt)\n",
    "        \n",
    "        #currentFiles = [name for name in os.listdir('./ImagePatches !!DONT OPEN!!')]\n",
    "        #if fileName in currentFiles:\n",
    "        #    continue\n",
    "\n",
    "        np.savetxt('./ImagePatches !!DONT OPEN!!/' + fileName + '.csv', patch, delimiter=\",\")\n",
    "        \n",
    "        patchCnt += 1\n",
    "\n",
    "'''"
   ]
  },
  {
   "cell_type": "code",
   "execution_count": 3,
   "metadata": {},
   "outputs": [],
   "source": [
    "import csv\n",
    "M = []\n",
    "\n",
    "for file in os.listdir('./Patches'):\n",
    "    \n",
    "    if file == '.ipynb_checkpoints':\n",
    "        #Don't want this file\n",
    "        continue\n",
    "    \n",
    "    \n",
    "    with open('./Patches/' + file, 'r') as f:\n",
    "        reader = csv.reader(f)\n",
    "        for row in reader:\n",
    "            M.append(np.array(row))\n",
    "\n",
    "M = np.array(M)"
   ]
  },
  {
   "cell_type": "code",
   "execution_count": 4,
   "metadata": {},
   "outputs": [],
   "source": [
    "indices = np.random.randint(0,4150001,50000)"
   ]
  },
  {
   "cell_type": "code",
   "execution_count": 5,
   "metadata": {},
   "outputs": [],
   "source": [
    "subset  = np.array([M[i] for i in indices])"
   ]
  },
  {
   "cell_type": "code",
   "execution_count": 6,
   "metadata": {},
   "outputs": [],
   "source": [
    "from sklearn.neighbors import KDTree\n",
    "\n",
    "tree = KDTree(subset)"
   ]
  },
  {
   "cell_type": "code",
   "execution_count": 7,
   "metadata": {},
   "outputs": [],
   "source": [
    "dist, index = tree.query(subset, k=15)"
   ]
  },
  {
   "cell_type": "code",
   "execution_count": 8,
   "metadata": {},
   "outputs": [],
   "source": [
    "dist_index_tuples = list(zip(dist,index))\n",
    "sorted_dist_index_tuples = sorted(dist_index_tuples, key=lambda x: x[0][-1])"
   ]
  },
  {
   "cell_type": "code",
   "execution_count": 9,
   "metadata": {},
   "outputs": [],
   "source": [
    "thirty_percent_index = int(len(sorted_dist_index_tuples)*.3)"
   ]
  },
  {
   "cell_type": "code",
   "execution_count": 10,
   "metadata": {},
   "outputs": [],
   "source": [
    "thirty_percent_tuples = np.array(sorted_dist_index_tuples[:thirty_percent_index])"
   ]
  },
  {
   "cell_type": "code",
   "execution_count": 11,
   "metadata": {},
   "outputs": [],
   "source": [
    "small_indices = [int(t[1][0]) for t in thirty_percent_tuples]"
   ]
  },
  {
   "cell_type": "code",
   "execution_count": 12,
   "metadata": {},
   "outputs": [],
   "source": [
    "point_cloud = np.array([M[i] for i in small_indices])"
   ]
  },
  {
   "cell_type": "code",
   "execution_count": 13,
   "metadata": {},
   "outputs": [
    {
     "data": {
      "image/png": "[encoded data removed]",
      "text/plain": [
       "<Figure size 640x480 with 1 Axes>"
      ]
     },
     "metadata": {},
     "output_type": "display_data"
    }
   ],
   "source": [
    "diagrams = ripser(point_cloud)['dgms']\n",
    "plot_dgms(diagrams)"
   ]
  },
  {
   "cell_type": "code",
   "execution_count": null,
   "metadata": {},
   "outputs": [],
   "source": []
  },
  {
   "cell_type": "code",
   "execution_count": null,
   "metadata": {},
   "outputs": [],
   "source": []
  }
 ],
 "metadata": {
  "kernelspec": {
   "display_name": "Python 3",
   "language": "python",
   "name": "python3"
  },
  "language_info": {
   "codemirror_mode": {
    "name": "ipython",
    "version": 3
   },
   "file_extension": ".py",
   "mimetype": "text/x-python",
   "name": "python",
   "nbconvert_exporter": "python",
   "pygments_lexer": "ipython3",
   "version": "3.6.7"
  }
 },
 "nbformat": 4,
 "nbformat_minor": 2
}
