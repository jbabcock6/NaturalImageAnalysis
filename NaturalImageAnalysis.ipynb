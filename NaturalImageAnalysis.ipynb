{
 "cells": [
  {
   "cell_type": "code",
   "execution_count": 93,
   "metadata": {},
   "outputs": [],
   "source": [
    "import os, array\n",
    "import numpy as np\n",
    "import random\n",
    "import math\n",
    "from operator import itemgetter"
   ]
  },
  {
   "cell_type": "code",
   "execution_count": 7,
   "metadata": {},
   "outputs": [],
   "source": [
    "imageNames = [name for name in os.listdir('./vanhateren_iml')]"
   ]
  },
  {
   "cell_type": "code",
   "execution_count": 8,
   "metadata": {},
   "outputs": [],
   "source": [
    "imgs = []\n",
    "\n",
    "for filename in imageNames:\n",
    "    \n",
    "    if filename == 'readIML.m':\n",
    "        #skip this file\n",
    "        continue\n",
    "    \n",
    "    fullPath = './vanhateren_iml/' + filename\n",
    "    with open(fullPath, 'rb') as handle:\n",
    "        s = handle.read()\n",
    "    arr = array.array('H', s)\n",
    "    arr.byteswap()\n",
    "    img = np.array(arr, dtype='uint16').reshape(1024, 1536)\n",
    "    imgs.append(img)\n",
    "    \n",
    "imgs = np.array(imgs)"
   ]
  },
  {
   "cell_type": "code",
   "execution_count": 15,
   "metadata": {},
   "outputs": [],
   "source": [
    "sample = imgs[0]"
   ]
  },
  {
   "cell_type": "code",
   "execution_count": 16,
   "metadata": {},
   "outputs": [
    {
     "data": {
      "text/plain": [
       "(1024, 1536)"
      ]
     },
     "execution_count": 16,
     "metadata": {},
     "output_type": "execute_result"
    }
   ],
   "source": [
    "sample.shape"
   ]
  },
  {
   "cell_type": "code",
   "execution_count": 34,
   "metadata": {},
   "outputs": [],
   "source": [
    "def extract_patches(img, xLength, yLength, patchLength, numPatches):\n",
    "    \n",
    "    patches = []\n",
    "    \n",
    "    random.seed(12345)\n",
    "    \n",
    "    for i in range(numPatches):\n",
    "    \n",
    "        xIndex = random.randint(0,xLength - patchLength)\n",
    "        yIndex = random.randint(0,yLength - patchLength)\n",
    "\n",
    "        patch = sample[xIndex:xIndex + patchLength, yIndex:yIndex + patchLength]\n",
    "    \n",
    "        patches.append(patch)\n",
    "    \n",
    "    return patches"
   ]
  },
  {
   "cell_type": "code",
   "execution_count": 35,
   "metadata": {},
   "outputs": [],
   "source": [
    "patches  = extract_patches(sample, 1024, 1536, 3, 5000)"
   ]
  },
  {
   "cell_type": "code",
   "execution_count": 88,
   "metadata": {},
   "outputs": [],
   "source": [
    "def compute_D_norm(patch, D):\n",
    "    \n",
    "    #Turn patch from 3x3 matrix to flat vector\n",
    "    patch = patch.flatten()\n",
    "\n",
    "    xTD = np.dot(patch.T,D)\n",
    "    \n",
    "    xTDx = np.dot(xTD,patch)\n",
    "\n",
    "    return math.sqrt(xTDx)\n",
    "        "
   ]
  },
  {
   "cell_type": "code",
   "execution_count": 89,
   "metadata": {},
   "outputs": [],
   "source": [
    "def pre_process_patches(patches):\n",
    "    #Returns a tuple of the form\n",
    "    #(processedPatch, DNorm)\n",
    "    \n",
    "    processedPatchesAndDNorm = []\n",
    "    \n",
    "    D = np.matrix([\n",
    "        [2,-1,0,-1,0,0,0,0,0],\n",
    "        [-1,3,-1,0,-1,0,0,0,0],\n",
    "        [0,-1,2,0,0,-1,0,0,0],\n",
    "        [-1,0,0,3,-1,0,-1,0,0],\n",
    "        [0,-1,0,-1,4,-1,0,-1,0],\n",
    "        [0,0,-1,0,-1,3,0,0,-1],\n",
    "        [0,0,0,-1,0,0,2,-1,0],\n",
    "        [0,0,0,0,-1,0,-1,3,-1],\n",
    "        [0,0,0,0,0,-1,0,-1,2]\n",
    "    ])\n",
    "    \n",
    "    for patch in patches:\n",
    "        \n",
    "        logVals = []\n",
    "        \n",
    "        for row in patch:\n",
    "            \n",
    "            for pix in row:\n",
    "            \n",
    "                logPix = math.log(pix)\n",
    "                logVals.append(logPix)\n",
    "        \n",
    "        patchLength = patch.shape[0]\n",
    "        logPatch = np.array(logVals).reshape(patchLength,patchLength)\n",
    "        \n",
    "        avg = np.mean(logPatch)\n",
    "        \n",
    "        averagedPatch = np.array([val - avg for val in logPatch]).reshape(patchLength,patchLength)\n",
    "        \n",
    "        DNorm = compute_D_norm(averagedPatch, D)\n",
    "        \n",
    "        tup = (averagedPatch,DNorm)\n",
    "        processedPatchesAndDNorm.append(tup)\n",
    "            \n",
    "    return processedPatchesAndDNorm\n",
    "         "
   ]
  },
  {
   "cell_type": "code",
   "execution_count": 90,
   "metadata": {},
   "outputs": [],
   "source": [
    "patchesAndNorm = pre_process_patches(patches)"
   ]
  },
  {
   "cell_type": "code",
   "execution_count": 102,
   "metadata": {},
   "outputs": [],
   "source": [
    "sortedLst = sorted(patchesAndNorm,key=itemgetter(1),reverse=True)"
   ]
  },
  {
   "cell_type": "code",
   "execution_count": 109,
   "metadata": {},
   "outputs": [],
   "source": [
    "top20Index = int(5000 * 0.2)\n",
    "\n",
    "selectedPatchesAndNorms = sortedLst[:top20Index]"
   ]
  },
  {
   "cell_type": "code",
   "execution_count": 111,
   "metadata": {},
   "outputs": [],
   "source": [
    "def normalizeVectors(patchesAndNorms):\n",
    "    #Takes a list of tuples of the form\n",
    "    #(patch/vector,DNorm)\n",
    "    \n",
    "    normalizedPatches = []\n",
    "    for patchAndNorm in patchesAndNorms:\n",
    "        \n",
    "        DNorm = patchAndNorm[1]\n",
    "        \n",
    "        normalizedPatch = []\n",
    "        for pix in patchAndNorm[0]:\n",
    "            normalized = pix / DNorm\n",
    "            \n",
    "            normalizedPatch.append(normalized)\n",
    "        \n",
    "        normalizedPatch = np.array(normalizedPatch)\n",
    "            \n",
    "        normalizedPatches.append(normalizedPatch)\n",
    "            \n",
    "    return np.array(normalizedPatches)   "
   ]
  },
  {
   "cell_type": "code",
   "execution_count": 112,
   "metadata": {},
   "outputs": [],
   "source": [
    "normalizedPatches = normalizeVectors(selectedPatchesAndNorms)"
   ]
  },
  {
   "cell_type": "code",
   "execution_count": null,
   "metadata": {},
   "outputs": [],
   "source": []
  },
  {
   "cell_type": "code",
   "execution_count": null,
   "metadata": {},
   "outputs": [],
   "source": []
  }
 ],
 "metadata": {
  "kernelspec": {
   "display_name": "Python 3",
   "language": "python",
   "name": "python3"
  },
  "language_info": {
   "codemirror_mode": {
    "name": "ipython",
    "version": 3
   },
   "file_extension": ".py",
   "mimetype": "text/x-python",
   "name": "python",
   "nbconvert_exporter": "python",
   "pygments_lexer": "ipython3",
   "version": "3.6.6"
  }
 },
 "nbformat": 4,
 "nbformat_minor": 2
}
